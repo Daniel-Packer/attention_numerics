{
 "cells": [
  {
   "cell_type": "code",
   "execution_count": 165,
   "metadata": {},
   "outputs": [],
   "source": [
    "from jax import numpy as jnp, vmap, random\n",
    "import matplotlib.pyplot as plt\n",
    "from S_4 import *\n",
    "\n",
    "rng = random.PRNGKey(0)\n",
    "rngs = random.split(rng, 4)"
   ]
  },
  {
   "cell_type": "code",
   "execution_count": 166,
   "metadata": {},
   "outputs": [],
   "source": [
    "normalize = lambda x: x / jnp.linalg.norm(x)\n",
    "key_pt = normalize(random.normal(rngs[0], (3,)))\n",
    "val_pt = normalize(random.normal(rngs[1], (3,)))\n",
    "x = random.normal(rngs[2], (3,))\n",
    "\n",
    "def embed_pt(pt, representation):\n",
    "    return jnp.dot(representation @ pt, key_pt)\n",
    "\n",
    "def unembed_pt(embedded_pt, representation):\n",
    "    return jnp.sum((representation.swapaxes(1, 2) @ val_pt) * embedded_pt[:, None], 0)\n",
    "\n",
    "\n",
    "def func(x):\n",
    "    y = x\n",
    "    y = embed_pt(y, U_1)\n",
    "    # y = jnp.maximum(y, 0.) # relu for a non-polynomial equivariant function\n",
    "    y = jnp.power(y, 3) # cubing to match bens function, squaring makes the map trivial\n",
    "    y = unembed_pt(y, U_2)\n",
    "    return y\n",
    "\n",
    "# According to Ben, this is the unique cubic equivariant function (up to a scalar)\n",
    "def bens_func(x):\n",
    "    return x * jnp.stack([\n",
    "        (x[2] ** 2) - (x[1] ** 2),\n",
    "        (x[0] ** 2) - (x[2] ** 2),\n",
    "        (x[1] ** 2) - (x[0] ** 2)\n",
    "    ])"
   ]
  },
  {
   "cell_type": "code",
   "execution_count": 167,
   "metadata": {},
   "outputs": [
    {
     "name": "stdout",
     "output_type": "stream",
     "text": [
      "Passed test!\n",
      "Passed test!\n"
     ]
    }
   ],
   "source": [
    "# Checking both functions are equivariant\n",
    "check_equivariant(func, x, U_1, U_2)\n",
    "check_equivariant(bens_func, x, U_1, U_2)"
   ]
  },
  {
   "cell_type": "code",
   "execution_count": 168,
   "metadata": {},
   "outputs": [
    {
     "name": "stdout",
     "output_type": "stream",
     "text": [
      "mean error: 5.623499873763649e-06\n"
     ]
    }
   ],
   "source": [
    "# Checking whether the hidden-layer function matches the one Ben defined:\n",
    "X = random.normal(key = rngs[3], shape=(100, 3))\n",
    "Y = vmap(func)(X)\n",
    "ben_Y = vmap(bens_func)(X)\n",
    "\n",
    "print(f\"mean error: {jnp.abs(Y / ben_Y  - (Y / ben_Y).mean()).mean() }\")"
   ]
  },
  {
   "cell_type": "code",
   "execution_count": null,
   "metadata": {},
   "outputs": [],
   "source": []
  }
 ],
 "metadata": {
  "kernelspec": {
   "display_name": "pyml",
   "language": "python",
   "name": "python3"
  },
  "language_info": {
   "codemirror_mode": {
    "name": "ipython",
    "version": 3
   },
   "file_extension": ".py",
   "mimetype": "text/x-python",
   "name": "python",
   "nbconvert_exporter": "python",
   "pygments_lexer": "ipython3",
   "version": "3.11.3"
  }
 },
 "nbformat": 4,
 "nbformat_minor": 2
}
