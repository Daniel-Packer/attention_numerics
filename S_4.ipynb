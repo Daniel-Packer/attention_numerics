{
 "cells": [
  {
   "cell_type": "code",
   "execution_count": 144,
   "metadata": {},
   "outputs": [],
   "source": [
    "from jax import numpy as jnp, vmap, random\n",
    "import matplotlib.pyplot as plt\n",
    "\n",
    "rng = random.PRNGKey(0)"
   ]
  },
  {
   "cell_type": "code",
   "execution_count": 247,
   "metadata": {},
   "outputs": [],
   "source": [
    "def get_perm_matrix(permutation):\n",
    "    perm_matrix = jnp.zeros((4, 4))\n",
    "    for i, j in enumerate(permutation):\n",
    "        perm_matrix = perm_matrix.at[i, j].set(1)\n",
    "    return perm_matrix\n",
    "\n",
    "\n",
    "tetrahedron_pts = jnp.eye(4) - 1 / 4\n",
    "eig_vals, eig_vecs = jnp.linalg.eigh(tetrahedron_pts)\n",
    "tetrahedron_pts = tetrahedron_pts @ eig_vecs[:, 1:]\n",
    "\n",
    "cube_pts = jnp.array(\n",
    "    [\n",
    "        [[(-1) ** i, (-1) ** j, (-1) ** k] for k in range(2)]\n",
    "        for i in range(2)\n",
    "        for j in range(2)\n",
    "    ]\n",
    ").reshape(-1, 3)\n",
    "\n",
    "\n",
    "def tetrahedron_represent(permutation):\n",
    "    perm_matrix = get_perm_matrix(permutation)\n",
    "    P_1 = tetrahedron_pts\n",
    "    P_2 = perm_matrix @ P_1\n",
    "    A = jnp.linalg.pinv(P_1) @ P_2\n",
    "    return A\n",
    "\n",
    "\n",
    "def cube_represent(permutation):\n",
    "    first_four = cube_pts[:4]\n",
    "    P_1 = first_four.astype(float)[:3]\n",
    "    P_2 = first_four[permutation].astype(float)[:3]\n",
    "\n",
    "    for signs in cube_pts:\n",
    "        A = jnp.linalg.pinv(P_1) @ (P_2 * signs[:, None])\n",
    "        if jnp.allclose(jnp.linalg.det(A), 1.0, atol=1e-5) and jnp.allclose(\n",
    "            A @ A.T, jnp.eye(3), atol=1e-5\n",
    "        ):\n",
    "            break\n",
    "    return A\n",
    "\n",
    "\n",
    "def compose_permutations(perm_1, perm_2):\n",
    "    return perm_1[perm_2]\n",
    "\n",
    "\n",
    "S_4 = jnp.array(\n",
    "    [\n",
    "        [0, 1, 2, 3],\n",
    "        [0, 1, 3, 2],\n",
    "        [0, 2, 1, 3],\n",
    "        [0, 2, 3, 1],\n",
    "        [0, 3, 1, 2],\n",
    "        [0, 3, 2, 1],\n",
    "        [1, 0, 2, 3],\n",
    "        [1, 0, 3, 2],\n",
    "        [1, 2, 0, 3],\n",
    "        [1, 2, 3, 0],\n",
    "        [1, 3, 0, 2],\n",
    "        [1, 3, 2, 0],\n",
    "        [2, 0, 1, 3],\n",
    "        [2, 0, 3, 1],\n",
    "        [2, 1, 0, 3],\n",
    "        [2, 1, 3, 0],\n",
    "        [2, 3, 0, 1],\n",
    "        [2, 3, 1, 0],\n",
    "        [3, 0, 1, 2],\n",
    "        [3, 0, 2, 1],\n",
    "        [3, 1, 0, 2],\n",
    "        [3, 1, 2, 0],\n",
    "        [3, 2, 0, 1],\n",
    "        [3, 2, 1, 0],\n",
    "    ]\n",
    ")\n",
    "\n",
    "# Symmetries of a tetrahedron\n",
    "U_1 = jnp.array([tetrahedron_represent(permutation) for permutation in S_4])\n",
    "\n",
    "# Symmetries of a cube\n",
    "U_2 = jnp.array([cube_represent(permutation) for permutation in S_4])\n",
    "\n",
    "\n",
    "# Tests whether the representation is associative\n",
    "def test_repr(represent):\n",
    "    for i in range(24):\n",
    "        for j in range(i, 24):\n",
    "            try:\n",
    "                # note that the order of the composition is \"reversed\"\n",
    "                assert jnp.allclose(\n",
    "                    represent(compose_permutations(S_4[i], S_4[j])),\n",
    "                    represent(S_4[j]) @ represent(S_4[i]),\n",
    "                    atol=1e-5,\n",
    "                )\n",
    "            except:\n",
    "                print(f\"Error thrown at {(i, )}\")\n",
    "\n",
    "\n",
    "def regular_represent(permutation):\n",
    "    new_perms = vmap(compose_permutations, in_axes=(None, 0))(permutation, S_4)\n",
    "    representation = jnp.all(S_4[:, None, :] == new_perms[None, :, :], axis=-1).astype(\n",
    "        int\n",
    "    )\n",
    "    return representation.T\n",
    "\n",
    "\n",
    "def check_equivariant(map, input, rep_1, rep_2):\n",
    "    for i in range(24):\n",
    "        assert jnp.allclose(\n",
    "            map(rep_1[i] @ input), rep_2[i] @ map(input), atol=1e-5\n",
    "        )\n",
    "    print(\"Passed test!\")"
   ]
  },
  {
   "cell_type": "code",
   "execution_count": 274,
   "metadata": {},
   "outputs": [
    {
     "name": "stdout",
     "output_type": "stream",
     "text": [
      "Passed test!\n"
     ]
    },
    {
     "data": {
      "text/plain": [
       "Array([1.4901161e-08, 0.0000000e+00, 8.3819032e-08], dtype=float32)"
      ]
     },
     "execution_count": 274,
     "metadata": {},
     "output_type": "execute_result"
    }
   ],
   "source": [
    "rngs = random.split(rng, 3)\n",
    "key_pt = random.normal(rngs[0], (3,))\n",
    "val_pt = random.normal(rngs[1], (3,))\n",
    "x = random.normal(rngs[2], (3,))\n",
    "\n",
    "def embed_pt(pt):\n",
    "    return jnp.dot(U_1 @ pt, key_pt)\n",
    "\n",
    "def unembed_pt(embedded_pt):\n",
    "    return jnp.sum((U_2.swapaxes(1, 2) @ val_pt) * embedded_pt[:, None], 0)\n",
    "\n",
    "\n",
    "def func(x):\n",
    "    y = x\n",
    "    y = embed_pt(y)\n",
    "    y = jnp.power(y, 2)\n",
    "    y = unembed_pt(y)\n",
    "    return y\n",
    "\n",
    "\n",
    "check_equivariant(func, x, U_1, U_2)\n",
    "func(x)\n"
   ]
  },
  {
   "cell_type": "code",
   "execution_count": 231,
   "metadata": {},
   "outputs": [
    {
     "data": {
      "text/plain": [
       "Array([-2.7939677e-09,  5.5879354e-09, -3.3527613e-08], dtype=float32)"
      ]
     },
     "execution_count": 231,
     "metadata": {},
     "output_type": "execute_result"
    }
   ],
   "source": [
    "jnp.sum((U_2 @ val_pt) * embed_pt(x)[:, None], 0)"
   ]
  },
  {
   "cell_type": "code",
   "execution_count": 135,
   "metadata": {},
   "outputs": [
    {
     "data": {
      "text/plain": [
       "Array([-0.38873065,  0.37088457,  0.05911535,  0.33873057,  0.11000005,\n",
       "       -0.36999992, -0.44359416,  0.31602103,  0.12476372,  0.2752147 ,\n",
       "        0.17564842, -0.43351585, -0.19963191,  0.07998333, -0.07912003,\n",
       "        0.07133094, -0.06038932, -0.18955357,  0.17390527, -0.3060947 ,\n",
       "        0.29441717, -0.31474707,  0.26226318,  0.1330989 ], dtype=float32)"
      ]
     },
     "execution_count": 135,
     "metadata": {},
     "output_type": "execute_result"
    }
   ],
   "source": [
    "regular_represent(perm).T @ embed_pt(x)"
   ]
  },
  {
   "cell_type": "code",
   "execution_count": 65,
   "metadata": {},
   "outputs": [],
   "source": []
  },
  {
   "cell_type": "code",
   "execution_count": 73,
   "metadata": {},
   "outputs": [
    {
     "data": {
      "text/plain": [
       "Array(0.9999999, dtype=float32)"
      ]
     },
     "execution_count": 73,
     "metadata": {},
     "output_type": "execute_result"
    }
   ],
   "source": [
    "# get_perm_matrix([0, 1, 2, 3])\n",
    "jnp.linalg.det(represent_permutation([1, 0, 3, 2]))"
   ]
  },
  {
   "cell_type": "code",
   "execution_count": null,
   "metadata": {},
   "outputs": [],
   "source": []
  }
 ],
 "metadata": {
  "kernelspec": {
   "display_name": "pyml",
   "language": "python",
   "name": "python3"
  },
  "language_info": {
   "codemirror_mode": {
    "name": "ipython",
    "version": 3
   },
   "file_extension": ".py",
   "mimetype": "text/x-python",
   "name": "python",
   "nbconvert_exporter": "python",
   "pygments_lexer": "ipython3",
   "version": "3.11.3"
  }
 },
 "nbformat": 4,
 "nbformat_minor": 2
}
