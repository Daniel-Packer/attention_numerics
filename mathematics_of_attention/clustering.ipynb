{
 "cells": [
  {
   "cell_type": "code",
   "execution_count": 3,
   "metadata": {},
   "outputs": [
    {
     "name": "stderr",
     "output_type": "stream",
     "text": [
      "No GPU/TPU found, falling back to CPU. (Set TF_CPP_MIN_LOG_LEVEL=0 and rerun for more info.)\n"
     ]
    }
   ],
   "source": [
    "import numpy as np\n",
    "from jax import numpy as jnp, random\n",
    "import jax\n",
    "import matplotlib.pyplot as plt\n",
    "from matplotlib import colormaps\n",
    "\n",
    "rngs = random.split(random.PRNGKey(3), 2)"
   ]
  },
  {
   "cell_type": "code",
   "execution_count": 4,
   "metadata": {},
   "outputs": [],
   "source": [
    "normalize = lambda x: x / jnp.linalg.norm(x)\n",
    "\n",
    "\n",
    "def plot(X, color, cmap=\"viridis\", ax=None, include_mean=False):\n",
    "    if ax is None:\n",
    "        _fig, ax = plt.subplots()\n",
    "\n",
    "    if type(color) is float:\n",
    "        color = colormaps.get_cmap(cmap)(color)\n",
    "\n",
    "    ax.scatter(X[:, 0], X[:, 1], color=color, s=20)\n",
    "    if include_mean:\n",
    "        mean_x = normalize(X.mean(0))\n",
    "        ax.scatter(mean_x[0], mean_x[1], color=color, marker=\"x\", s=100)\n",
    "    ax.set(xlim=(-1.2, 1.2), ylim=(-1.2, 1.2))\n",
    "    # ax.axis(\"equal\")\n",
    "\n",
    "\n",
    "def self_attention(X, Q, K, V, beta):\n",
    "    XQ = X @ Q.T\n",
    "    XK = X @ K.T\n",
    "    inners = XQ @ XK.T\n",
    "    scores = jax.nn.softmax(inners * beta, axis=1)\n",
    "    return scores @ (X @ V.T)\n",
    "\n",
    "\n",
    "def sphere_project(vec, onto):\n",
    "    return vec - jnp.dot(vec, onto) * onto\n",
    "\n",
    "\n",
    "def p_self_attention(X, Q, K, V, beta):\n",
    "    attention_out = self_attention(X, Q, K, V, beta)\n",
    "    return jax.vmap(sphere_project, in_axes=(0, 0))(attention_out, X)\n",
    "\n",
    "\n",
    "def simulate(X, Q, K, V, beta, eps, steps):\n",
    "    if len(V.shape) == 2:\n",
    "        V = jnp.tile(V, (steps, 1, 1))\n",
    "\n",
    "    # The update function\n",
    "    def update(X, V):\n",
    "        X_updated = jax.vmap(normalize, 0)(X + eps * p_self_attention(X, Q, K, V, beta))\n",
    "        return X_updated, X_updated\n",
    "\n",
    "    # The first element is the carry, but we want all the elements\n",
    "    Xs = jax.lax.scan(update, X, V)[1]\n",
    "\n",
    "    return Xs\n",
    "\n",
    "\n",
    "def dist_from_inner(inner):\n",
    "    return jnp.sqrt(jax.nn.relu(1 - inner**2))\n",
    "\n",
    "\n",
    "def get_inners(X):\n",
    "    return X @ X.T\n",
    "\n",
    "\n",
    "def make_inner_plot(Xs, ax=None):\n",
    "    if ax is None:\n",
    "        _fig, ax = plt.subplots()\n",
    "    inners = jax.vmap(get_inners, 0)(Xs)\n",
    "    total_inners = inners.sum([1, 2])\n",
    "    ax.plot((total_inners), label=f\"(n, d) = {(Xs.shape[1:])}\")\n",
    "\n",
    "\n",
    "def do_inner_experiment(n, d, ax=None):\n",
    "    steps = int(2e3)\n",
    "    eps = 1e-2\n",
    "    X_init = random.normal(rngs[0], (n, d))\n",
    "    # X_init = jnp.stack([jnp.cos(jnp.linspace(0, 2 * np.pi, n, endpoint=False)), jnp.sin(jnp.linspace(0, 2 * np.pi, n, endpoint=False))], axis=1)\n",
    "    # X_init = jnp.stack([jnp.cos(jnp.linspace(0, 2 * np.pi, n, endpoint=False)), jnp.sin(jnp.linspace(0, 2 * np.pi, n, endpoint=False))], axis=1) + random.normal(rngs[0], (n, d)) * 0.05\n",
    "    X_init = jax.vmap(normalize, 0)(X_init)\n",
    "    Q = jnp.eye(d)\n",
    "    K = jnp.eye(d)\n",
    "    V = jnp.eye(d)\n",
    "    Xs = simulate(X_init, Q, K, V, 1.0, eps, steps)\n",
    "\n",
    "    make_inner_plot(Xs, ax)\n",
    "\n",
    "\n",
    "def do_inner_experiments(ns, ds):\n",
    "    fig, ax = plt.subplots()\n",
    "\n",
    "    for n, d in zip(ns, ds):\n",
    "        do_inner_experiment(n, d, ax)\n",
    "\n",
    "    ax.legend()"
   ]
  },
  {
   "cell_type": "code",
   "execution_count": 18,
   "metadata": {},
   "outputs": [],
   "source": [
    "n = 15\n",
    "d = 2\n",
    "\n",
    "steps = int(2e3)\n",
    "eps = 1e-2\n",
    "X_init = random.normal(rngs[0], (n, d))\n",
    "# X_init = jnp.stack([jnp.cos(jnp.linspace(0, 2 * np.pi, n, endpoint=False)), jnp.sin(jnp.linspace(0, 2 * np.pi, n, endpoint=False))], axis=1)\n",
    "# X_init = jnp.stack([jnp.cos(jnp.linspace(0, 2 * np.pi, n, endpoint=False)), jnp.sin(jnp.linspace(0, 2 * np.pi, n, endpoint=False))], axis=1) + random.normal(rngs[0], (n, d)) * 0.05\n",
    "X_init = jax.vmap(normalize, 0)(X_init)\n",
    "Q = jnp.eye(d)\n",
    "K = jnp.eye(d)\n",
    "V = -jnp.eye(d)\n",
    "rotation_matrix = lambda theta : jnp.array([[jnp.cos(theta), -jnp.sin(theta)], [jnp.sin(theta), jnp.cos(theta)]])\n",
    "angles = jnp.linspace(0, 6 * np.pi, steps)\n",
    "V = jax.vmap(rotation_matrix, 0)(angles)\n",
    "\n",
    "Xs = simulate(X_init, Q, K, V, 1.0, eps, steps)"
   ]
  },
  {
   "cell_type": "code",
   "execution_count": 31,
   "metadata": {},
   "outputs": [],
   "source": [
    "import matplotlib.pyplot as plt\n",
    "import imageio.v3 as iio\n",
    "from imageio import plugins\n",
    "\n",
    "# Create a list to store all the images\n",
    "images = []\n",
    "\n",
    "n_frames = 100\n",
    "steps_to_plot = steps\n",
    "steps_per_frame = steps_to_plot // n_frames\n",
    "# Loop over the range of images you want to create\n",
    "for i in range(0, steps_to_plot, steps_per_frame):\n",
    "    angle = angles[i]\n",
    "    # Create a new figure and plot\n",
    "    fig, ax = plt.subplots(figsize=(6, 5))\n",
    "    plot(Xs[i], i / steps_to_plot, ax=ax, include_mean=False)\n",
    "    ax.plot([0, jnp.cos(angle)], [0, jnp.sin(angle)], \"gray\")\n",
    "\n",
    "    # Save the figure to a file\n",
    "    filename = f'scratch_plots/plot_{i}.png'\n",
    "    plt.savefig(filename)\n",
    "\n",
    "    # Close the figure\n",
    "    plt.close()\n",
    "\n",
    "    # Append the filename to the images list\n",
    "    images.append(iio.imread(filename))\n",
    "\n",
    "# Save all images into a gif\n",
    "iio.imwrite('movie.gif', images, plugin=plugins.pillow.PillowPlugin, loop=0)\n",
    "# optimize('movie.gif')\n"
   ]
  },
  {
   "cell_type": "code",
   "execution_count": 16,
   "metadata": {},
   "outputs": [
    {
     "data": {
      "text/plain": [
       "100"
      ]
     },
     "execution_count": 16,
     "metadata": {},
     "output_type": "execute_result"
    }
   ],
   "source": [
    "steps_per_frame"
   ]
  },
  {
   "cell_type": "code",
   "execution_count": 29,
   "metadata": {},
   "outputs": [
    {
     "data": {
      "text/plain": [
       "[<matplotlib.lines.Line2D at 0x7fda4d22e5d0>]"
      ]
     },
     "execution_count": 29,
     "metadata": {},
     "output_type": "execute_result"
    },
    {
     "data": {
      "image/png": "[encoded data removed]",
      "text/plain": [
       "<Figure size 640x480 with 1 Axes>"
      ]
     },
     "metadata": {},
     "output_type": "display_data"
    }
   ],
   "source": [
    "fig, ax = plt.subplots()\n",
    "angle = 2"
   ]
  }
 ],
 "metadata": {
  "kernelspec": {
   "display_name": "pyml",
   "language": "python",
   "name": "python3"
  },
  "language_info": {
   "codemirror_mode": {
    "name": "ipython",
    "version": 3
   },
   "file_extension": ".py",
   "mimetype": "text/x-python",
   "name": "python",
   "nbconvert_exporter": "python",
   "pygments_lexer": "ipython3",
   "version": "3.11.3"
  }
 },
 "nbformat": 4,
 "nbformat_minor": 2
}
